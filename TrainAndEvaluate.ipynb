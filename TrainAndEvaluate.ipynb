{
 "cells": [
  {
   "cell_type": "markdown",
   "id": "b7ef4f94",
   "metadata": {},
   "source": [
    "### Import libraries and load dataset"
   ]
  },
  {
   "cell_type": "code",
   "execution_count": 1,
   "id": "3590f86c",
   "metadata": {},
   "outputs": [],
   "source": [
    "%load_ext autoreload\n",
    "%autoreload 2"
   ]
  },
  {
   "cell_type": "code",
   "execution_count": 2,
   "id": "21d63e9c",
   "metadata": {},
   "outputs": [
    {
     "data": {
      "text/html": [
       "<div>\n",
       "<style scoped>\n",
       "    .dataframe tbody tr th:only-of-type {\n",
       "        vertical-align: middle;\n",
       "    }\n",
       "\n",
       "    .dataframe tbody tr th {\n",
       "        vertical-align: top;\n",
       "    }\n",
       "\n",
       "    .dataframe thead th {\n",
       "        text-align: right;\n",
       "    }\n",
       "</style>\n",
       "<table border=\"1\" class=\"dataframe\">\n",
       "  <thead>\n",
       "    <tr style=\"text-align: right;\">\n",
       "      <th></th>\n",
       "      <th>tweet_id</th>\n",
       "      <th>label</th>\n",
       "      <th>text</th>\n",
       "    </tr>\n",
       "  </thead>\n",
       "  <tbody>\n",
       "    <tr>\n",
       "      <th>0</th>\n",
       "      <td>567737449938685952</td>\n",
       "      <td>negative</td>\n",
       "      <td>@SouthwestAir no flights out of #nashville tod...</td>\n",
       "    </tr>\n",
       "    <tr>\n",
       "      <th>1</th>\n",
       "      <td>567737317432258560</td>\n",
       "      <td>neutral</td>\n",
       "      <td>@SouthwestAir I am but it says yall are sold o...</td>\n",
       "    </tr>\n",
       "    <tr>\n",
       "      <th>2</th>\n",
       "      <td>567736870365171713</td>\n",
       "      <td>negative</td>\n",
       "      <td>@SouthwestAir I'm trying to change a family va...</td>\n",
       "    </tr>\n",
       "    <tr>\n",
       "      <th>3</th>\n",
       "      <td>567736166787850240</td>\n",
       "      <td>neutral</td>\n",
       "      <td>@SouthwestAir F5R3ZZ</td>\n",
       "    </tr>\n",
       "    <tr>\n",
       "      <th>4</th>\n",
       "      <td>567735766416392194</td>\n",
       "      <td>positive</td>\n",
       "      <td>.@SouthwestAir you've got a mess here at DTW b...</td>\n",
       "    </tr>\n",
       "  </tbody>\n",
       "</table>\n",
       "</div>"
      ],
      "text/plain": [
       "             tweet_id     label  \\\n",
       "0  567737449938685952  negative   \n",
       "1  567737317432258560   neutral   \n",
       "2  567736870365171713  negative   \n",
       "3  567736166787850240   neutral   \n",
       "4  567735766416392194  positive   \n",
       "\n",
       "                                                text  \n",
       "0  @SouthwestAir no flights out of #nashville tod...  \n",
       "1  @SouthwestAir I am but it says yall are sold o...  \n",
       "2  @SouthwestAir I'm trying to change a family va...  \n",
       "3                               @SouthwestAir F5R3ZZ  \n",
       "4  .@SouthwestAir you've got a mess here at DTW b...  "
      ]
     },
     "execution_count": 2,
     "metadata": {},
     "output_type": "execute_result"
    }
   ],
   "source": [
    "import pandas as pd\n",
    "\n",
    "tweet_train_path = \"data/combine/kfolds_0/train.csv\"\n",
    "tweet_test_path = \"data/combine/kfolds_0/test.csv\"\n",
    "\n",
    "train_df = pd.read_csv(tweet_train_path, nrows=100)\n",
    "test_df = pd.read_csv(tweet_test_path, nrows=100)\n",
    "\n",
    "train_df.head()"
   ]
  },
  {
   "cell_type": "markdown",
   "id": "c64977ba",
   "metadata": {},
   "source": [
    "### Data preprocessing"
   ]
  },
  {
   "cell_type": "code",
   "execution_count": 3,
   "id": "068975f1",
   "metadata": {},
   "outputs": [],
   "source": [
    "import re\n",
    "\n",
    "def emoji(tweet):\n",
    "    # Smile -- :), : ), :-), (:, ( :, (-:, :') , :O\n",
    "    tweet = re.sub(r'(:\\s?\\)|:-\\)|\\(\\s?:|\\(-:|:\\'\\)|:O)', ' positiveemoji ', tweet)\n",
    "    # Laugh -- :D, : D, :-D, xD, x-D, XD, X-D\n",
    "    tweet = re.sub(r'(:\\s?D|:-D|x-?D|X-?D)', ' positiveemoji ', tweet)\n",
    "    # Love -- <3, :*\n",
    "    tweet = re.sub(r'(<3|:\\*)', ' positiveemoji ', tweet)\n",
    "    # Wink -- ;-), ;), ;-D, ;D, (;,  (-; , @-)\n",
    "    tweet = re.sub(r'(;-?\\)|;-?D|\\(-?;|@-\\))', ' positiveemoji ', tweet)\n",
    "    # Sad -- :-(, : (, :(, ):, )-:, :-/ , :-|\n",
    "    tweet = re.sub(r'(:\\s?\\(|:-\\(|\\)\\s?:|\\)-:|:-/|:-\\|)', ' negetiveemoji ', tweet)\n",
    "    # Cry -- :,(, :'(, :\"(\n",
    "    tweet = re.sub(r'(:,\\(|:\\'\\(|:\"\\()', ' negetiveemoji ', tweet)\n",
    "    return tweet\n",
    "\n",
    "def process_tweet(tweet):\n",
    "    tweet = tweet.lower()                                             # Lowercases the string\n",
    "    tweet = re.sub('@[^\\s]+', '', tweet)                              # Removes usernames\n",
    "    tweet = re.sub('((www\\.[^\\s]+)|(https?://[^\\s]+))', ' ', tweet)   # Remove URLs\n",
    "    tweet = re.sub(r\"\\d+\", \" \", str(tweet))                           # Removes all digits\n",
    "    tweet = re.sub('&quot;',\" \", tweet)                               # Remove (&quot;) \n",
    "    tweet = emoji(tweet)                                              # Replaces Emojis\n",
    "    tweet = re.sub(r\"\\b[a-zA-Z]\\b\", \"\", str(tweet))                   # Removes all single characters\n",
    "    tweet = re.sub(r\"[^\\w\\s]\", \" \", str(tweet))                       # Removes all punctuations\n",
    "    tweet = re.sub(r'(.)\\1+', r'\\1\\1', tweet)                         # Convert more than 2 letter repetitions to 2 letter\n",
    "    tweet = re.sub(r\"\\s+\", \" \", str(tweet)) .strip()               \n",
    "    return tweet"
   ]
  },
  {
   "cell_type": "code",
   "execution_count": 4,
   "id": "2432e1c3",
   "metadata": {},
   "outputs": [
    {
     "data": {
      "text/html": [
       "<div>\n",
       "<style scoped>\n",
       "    .dataframe tbody tr th:only-of-type {\n",
       "        vertical-align: middle;\n",
       "    }\n",
       "\n",
       "    .dataframe tbody tr th {\n",
       "        vertical-align: top;\n",
       "    }\n",
       "\n",
       "    .dataframe thead th {\n",
       "        text-align: right;\n",
       "    }\n",
       "</style>\n",
       "<table border=\"1\" class=\"dataframe\">\n",
       "  <thead>\n",
       "    <tr style=\"text-align: right;\">\n",
       "      <th></th>\n",
       "      <th>tweet_id</th>\n",
       "      <th>label</th>\n",
       "      <th>text</th>\n",
       "    </tr>\n",
       "  </thead>\n",
       "  <tbody>\n",
       "    <tr>\n",
       "      <th>0</th>\n",
       "      <td>567737449938685952</td>\n",
       "      <td>negative</td>\n",
       "      <td>no flights out of nashville today are you kidd...</td>\n",
       "    </tr>\n",
       "    <tr>\n",
       "      <th>1</th>\n",
       "      <td>567737317432258560</td>\n",
       "      <td>neutral</td>\n",
       "      <td>am but it says yall are sold out me amp my cow...</td>\n",
       "    </tr>\n",
       "    <tr>\n",
       "      <th>2</th>\n",
       "      <td>567736870365171713</td>\n",
       "      <td>negative</td>\n",
       "      <td>trying to change family vacation due to measle...</td>\n",
       "    </tr>\n",
       "    <tr>\n",
       "      <th>3</th>\n",
       "      <td>567736166787850240</td>\n",
       "      <td>neutral</td>\n",
       "      <td>zz</td>\n",
       "    </tr>\n",
       "    <tr>\n",
       "      <th>4</th>\n",
       "      <td>567735766416392194</td>\n",
       "      <td>positive</td>\n",
       "      <td>you ve got mess here at dtw but your staff is ...</td>\n",
       "    </tr>\n",
       "  </tbody>\n",
       "</table>\n",
       "</div>"
      ],
      "text/plain": [
       "             tweet_id     label  \\\n",
       "0  567737449938685952  negative   \n",
       "1  567737317432258560   neutral   \n",
       "2  567736870365171713  negative   \n",
       "3  567736166787850240   neutral   \n",
       "4  567735766416392194  positive   \n",
       "\n",
       "                                                text  \n",
       "0  no flights out of nashville today are you kidd...  \n",
       "1  am but it says yall are sold out me amp my cow...  \n",
       "2  trying to change family vacation due to measle...  \n",
       "3                                                 zz  \n",
       "4  you ve got mess here at dtw but your staff is ...  "
      ]
     },
     "execution_count": 4,
     "metadata": {},
     "output_type": "execute_result"
    }
   ],
   "source": [
    "train_df[\"text\"] = train_df[\"text\"].apply(lambda x: process_tweet(x))\n",
    "test_df[\"text\"] = test_df[\"text\"].apply(lambda x: process_tweet(x))\n",
    "train_df.head()"
   ]
  },
  {
   "cell_type": "code",
   "execution_count": 5,
   "id": "25975a9d",
   "metadata": {
    "scrolled": false
   },
   "outputs": [
    {
     "data": {
      "text/plain": [
       "array(['no flights out of nashville today are you kidding me why are other airlines flying and you re not so frustrated',\n",
       "       'am but it says yall are sold out me amp my coworkers would need to get out first available',\n",
       "       'trying to change family vacation due to measles outbreak and haven been able to get anyone on the phone any help',\n",
       "       'zz', 'you ve got mess here at dtw but your staff is doing great'],\n",
       "      dtype=object)"
      ]
     },
     "execution_count": 5,
     "metadata": {},
     "output_type": "execute_result"
    }
   ],
   "source": [
    "# Convert data to trainable format\n",
    "import json\n",
    "\n",
    "id2label = {0: \"negative\", 1: \"neutral\", 2: \"positive\"}\n",
    "label2id = {v: k for k, v in id2label.items()}\n",
    "\n",
    "train_df[\"label\"] = train_df[\"label\"].apply(lambda x: label2id[x])\n",
    "test_df[\"label\"] = test_df[\"label\"].apply(lambda x: label2id[x])\n",
    "\n",
    "train_texts = train_df[\"text\"].values\n",
    "train_labels = train_df[\"label\"].values\n",
    "\n",
    "test_texts = test_df[\"text\"].values\n",
    "test_labels = test_df[\"label\"]. values\n",
    "\n",
    "train_texts[:5]"
   ]
  },
  {
   "cell_type": "markdown",
   "id": "673b890e",
   "metadata": {},
   "source": [
    "### Select feature extraction method & model for training\n",
    "Feature extraction heavily depends on the classifer. For example, language models such as bert-base-uncased and roberta-base don\"t require feature extraction step. Other shallow learning models require feature extraction such as tf-idf, bow, word2vec to transform texts to vectors."
   ]
  },
  {
   "cell_type": "code",
   "execution_count": 6,
   "id": "831bcd49",
   "metadata": {},
   "outputs": [
    {
     "name": "stdout",
     "output_type": "stream",
     "text": [
      "Vectorizer:  pass\n",
      "Classifier:  distilbert-base-uncased\n"
     ]
    },
    {
     "name": "stderr",
     "output_type": "stream",
     "text": [
      "Some weights of the model checkpoint at distilbert-base-uncased were not used when initializing DistilBertForSequenceClassification: ['vocab_transform.weight', 'vocab_layer_norm.bias', 'vocab_projector.bias', 'vocab_transform.bias', 'vocab_projector.weight', 'vocab_layer_norm.weight']\n",
      "- This IS expected if you are initializing DistilBertForSequenceClassification from the checkpoint of a model trained on another task or with another architecture (e.g. initializing a BertForSequenceClassification model from a BertForPreTraining model).\n",
      "- This IS NOT expected if you are initializing DistilBertForSequenceClassification from the checkpoint of a model that you expect to be exactly identical (initializing a BertForSequenceClassification model from a BertForSequenceClassification model).\n",
      "Some weights of DistilBertForSequenceClassification were not initialized from the model checkpoint at distilbert-base-uncased and are newly initialized: ['classifier.bias', 'pre_classifier.bias', 'classifier.weight', 'pre_classifier.weight']\n",
      "You should probably TRAIN this model on a down-stream task to be able to use it for predictions and inference.\n"
     ]
    }
   ],
   "source": [
    "from vectorizers import init_vectorizer\n",
    "from algorithms import init_trainer\n",
    "\n",
    "vectorizer_options = [\n",
    "    \"tfidf\",\n",
    "    \"word2vec\",\n",
    "    \"bow\", # unigram and bigram\n",
    "    \"pass\" # only use for lm_models\n",
    "]\n",
    "\n",
    "shallow_learning_models = [\n",
    "    \"linear_svm_tfidf\", #0\n",
    "    \"linear_svm_word2vec\", #1\n",
    "    \"logistic_regressor_word2vec\", #2\n",
    "    \"naive_bayes\", #3\n",
    "    \"random_forest\"  #4\n",
    "    ]\n",
    "\n",
    "lm_models = [\n",
    "    \"distilbert-base-uncased\", #5\n",
    "    \"bert-base-uncased\", #6\n",
    "    \"roberta-base\", #7\n",
    "]\n",
    "\n",
    "chosen_vectorizer_name = vectorizer_options[3]\n",
    "vectorizer = init_vectorizer(chosen_vectorizer_name)\n",
    "print(\"Vectorizer: \", chosen_vectorizer_name)\n",
    "\n",
    "chosen_model_name = lm_models[0]\n",
    "print(\"Classifier: \", chosen_model_name)\n",
    "trainer = init_trainer(chosen_model_name)"
   ]
  },
  {
   "cell_type": "markdown",
   "id": "2c0dbdff",
   "metadata": {},
   "source": [
    "### Feature Extraction"
   ]
  },
  {
   "cell_type": "code",
   "execution_count": 7,
   "id": "f0faa511",
   "metadata": {},
   "outputs": [
    {
     "data": {
      "text/plain": [
       "array(['no flights out of nashville today are you kidding me why are other airlines flying and you re not so frustrated',\n",
       "       'am but it says yall are sold out me amp my coworkers would need to get out first available',\n",
       "       'trying to change family vacation due to measles outbreak and haven been able to get anyone on the phone any help',\n",
       "       'zz', 'you ve got mess here at dtw but your staff is doing great'],\n",
       "      dtype=object)"
      ]
     },
     "execution_count": 7,
     "metadata": {},
     "output_type": "execute_result"
    }
   ],
   "source": [
    "# Train vectorizer\n",
    "vectorizer.fit(train_texts)\n",
    "\n",
    "# convert train_texts, test_texts to vectors\n",
    "train_vector = vectorizer.transform(train_texts)\n",
    "test_vector = vectorizer.transform(test_texts)\n",
    "\n",
    "train_vector[:5]"
   ]
  },
  {
   "cell_type": "markdown",
   "id": "72929f83",
   "metadata": {},
   "source": [
    "### Training model"
   ]
  },
  {
   "cell_type": "code",
   "execution_count": 8,
   "id": "1e45692b",
   "metadata": {},
   "outputs": [
    {
     "data": {
      "application/vnd.jupyter.widget-view+json": {
       "model_id": "d7563e0b1ad94bd0bb27f637a02ffb16",
       "version_major": 2,
       "version_minor": 0
      },
      "text/plain": [
       "  0%|          | 0/1 [00:00<?, ?ba/s]"
      ]
     },
     "metadata": {},
     "output_type": "display_data"
    },
    {
     "name": "stderr",
     "output_type": "stream",
     "text": [
      "The following columns in the training set don't have a corresponding argument in `DistilBertForSequenceClassification.forward` and have been ignored: text. If text are not expected by `DistilBertForSequenceClassification.forward`,  you can safely ignore this message.\n",
      "/media/thanhdat/DATA/Projects/Sentiment-Analysis-Benchmark/.env/lib/python3.9/site-packages/transformers/optimization.py:306: FutureWarning: This implementation of AdamW is deprecated and will be removed in a future version. Use the PyTorch implementation torch.optim.AdamW instead, or set `no_deprecation_warning=True` to disable this warning\n",
      "  warnings.warn(\n",
      "***** Running training *****\n",
      "  Num examples = 100\n",
      "  Num Epochs = 5\n",
      "  Instantaneous batch size per device = 16\n",
      "  Total train batch size (w. parallel, distributed & accumulation) = 16\n",
      "  Gradient Accumulation steps = 1\n",
      "  Total optimization steps = 35\n",
      "  Number of trainable parameters = 66955779\n",
      "You're using a DistilBertTokenizerFast tokenizer. Please note that with a fast tokenizer, using the `__call__` method is faster than using a method to encode the text followed by a call to the `pad` method to get a padded encoding.\n"
     ]
    },
    {
     "data": {
      "text/html": [
       "\n",
       "    <div>\n",
       "      \n",
       "      <progress value='35' max='35' style='width:300px; height:20px; vertical-align: middle;'></progress>\n",
       "      [35/35 00:16, Epoch 5/5]\n",
       "    </div>\n",
       "    <table border=\"1\" class=\"dataframe\">\n",
       "  <thead>\n",
       " <tr style=\"text-align: left;\">\n",
       "      <th>Step</th>\n",
       "      <th>Training Loss</th>\n",
       "    </tr>\n",
       "  </thead>\n",
       "  <tbody>\n",
       "  </tbody>\n",
       "</table><p>"
      ],
      "text/plain": [
       "<IPython.core.display.HTML object>"
      ]
     },
     "metadata": {},
     "output_type": "display_data"
    },
    {
     "name": "stderr",
     "output_type": "stream",
     "text": [
      "\n",
      "\n",
      "Training completed. Do not forget to share your model on huggingface.co/models =)\n",
      "\n",
      "\n",
      "Saving model checkpoint to models/distilbert-base-uncased-example\n",
      "Configuration saved in models/distilbert-base-uncased-example/config.json\n",
      "Model weights saved in models/distilbert-base-uncased-example/pytorch_model.bin\n",
      "tokenizer config file saved in models/distilbert-base-uncased-example/tokenizer_config.json\n",
      "Special tokens file saved in models/distilbert-base-uncased-example/special_tokens_map.json\n"
     ]
    },
    {
     "name": "stdout",
     "output_type": "stream",
     "text": [
      "Model has been saved to models/distilbert-base-uncased-example\n"
     ]
    }
   ],
   "source": [
    "trainer.train(train_vector, train_labels)\n",
    "trainer.save_model(vectorizer=vectorizer, output_model_name=f\"{chosen_model_name}-example\")"
   ]
  },
  {
   "cell_type": "markdown",
   "id": "9c1490c2",
   "metadata": {},
   "source": [
    "### Evaluate model"
   ]
  },
  {
   "cell_type": "code",
   "execution_count": 9,
   "id": "bf40de9c",
   "metadata": {},
   "outputs": [
    {
     "name": "stderr",
     "output_type": "stream",
     "text": [
      "Parameter 'function'=<function LMForSequenceClassification.preprocess_function at 0x7f2a7ad65940> of the transform datasets.arrow_dataset.Dataset._map_single couldn't be hashed properly, a random hash was used instead. Make sure your transforms and parameters are serializable with pickle or dill for the dataset fingerprinting and caching to work. If you reuse this transform, the caching mechanism will consider it to be different from the previous calls and recompute everything. This warning is only showed once. Subsequent hashing failures won't be showed.\n"
     ]
    },
    {
     "data": {
      "application/vnd.jupyter.widget-view+json": {
       "model_id": "e1a63f9c382a48dea7dc96400f792c30",
       "version_major": 2,
       "version_minor": 0
      },
      "text/plain": [
       "  0%|          | 0/1 [00:00<?, ?ba/s]"
      ]
     },
     "metadata": {},
     "output_type": "display_data"
    },
    {
     "name": "stderr",
     "output_type": "stream",
     "text": [
      "PyTorch: setting up devices\n",
      "The default value for the training argument `--report_to` will change in v5 (from all installed integrations to none). In v5, you will need to use `--report_to all` to get the same behavior as now. You should start updating your code and make this info disappear :-).\n",
      "The following columns in the test set don't have a corresponding argument in `DistilBertForSequenceClassification.forward` and have been ignored: text. If text are not expected by `DistilBertForSequenceClassification.forward`,  you can safely ignore this message.\n",
      "***** Running Prediction *****\n",
      "  Num examples = 100\n",
      "  Batch size = 2\n"
     ]
    },
    {
     "data": {
      "text/html": [],
      "text/plain": [
       "<IPython.core.display.HTML object>"
      ]
     },
     "metadata": {},
     "output_type": "display_data"
    },
    {
     "name": "stdout",
     "output_type": "stream",
     "text": [
      "Accuracy: micro: 0.350\n",
      "Precision: micro-macro: 0.350-0.117\n",
      "Recall: micro-macro: 0.350-0.333\n",
      "F1: micro-macro: 0.350-0.173\n",
      "              precision    recall  f1-score   support\n",
      "\n",
      "    negative       0.35      1.00      0.52        35\n",
      "     neutral       0.00      0.00      0.00        38\n",
      "    positive       0.00      0.00      0.00        27\n",
      "\n",
      "    accuracy                           0.35       100\n",
      "   macro avg       0.12      0.33      0.17       100\n",
      "weighted avg       0.12      0.35      0.18       100\n",
      "\n"
     ]
    },
    {
     "name": "stderr",
     "output_type": "stream",
     "text": [
      "/media/thanhdat/DATA/Projects/Sentiment-Analysis-Benchmark/.env/lib/python3.9/site-packages/sklearn/metrics/_classification.py:1334: UndefinedMetricWarning: Precision is ill-defined and being set to 0.0 in labels with no predicted samples. Use `zero_division` parameter to control this behavior.\n",
      "  _warn_prf(average, modifier, msg_start, len(result))\n",
      "/media/thanhdat/DATA/Projects/Sentiment-Analysis-Benchmark/.env/lib/python3.9/site-packages/sklearn/metrics/_classification.py:1334: UndefinedMetricWarning: Precision and F-score are ill-defined and being set to 0.0 in labels with no predicted samples. Use `zero_division` parameter to control this behavior.\n",
      "  _warn_prf(average, modifier, msg_start, len(result))\n",
      "/media/thanhdat/DATA/Projects/Sentiment-Analysis-Benchmark/.env/lib/python3.9/site-packages/sklearn/metrics/_classification.py:1334: UndefinedMetricWarning: Precision and F-score are ill-defined and being set to 0.0 in labels with no predicted samples. Use `zero_division` parameter to control this behavior.\n",
      "  _warn_prf(average, modifier, msg_start, len(result))\n",
      "/media/thanhdat/DATA/Projects/Sentiment-Analysis-Benchmark/.env/lib/python3.9/site-packages/sklearn/metrics/_classification.py:1334: UndefinedMetricWarning: Precision and F-score are ill-defined and being set to 0.0 in labels with no predicted samples. Use `zero_division` parameter to control this behavior.\n",
      "  _warn_prf(average, modifier, msg_start, len(result))\n"
     ]
    },
    {
     "data": {
      "text/plain": [
       "{'acc': 0.35,\n",
       " 'p_micro': 0.35,\n",
       " 'p_macro': 0.11666666666666665,\n",
       " 'r_micro': 0.35,\n",
       " 'r_macro': 0.3333333333333333,\n",
       " 'f1_micro': 0.35,\n",
       " 'f1_macro': 0.1728395061728395,\n",
       " 'inference_time': 0.7336807250976562}"
      ]
     },
     "execution_count": 9,
     "metadata": {},
     "output_type": "execute_result"
    }
   ],
   "source": [
    "trainer.evaluate(test_vector, test_labels)"
   ]
  },
  {
   "cell_type": "code",
   "execution_count": null,
   "id": "5b713916",
   "metadata": {},
   "outputs": [],
   "source": []
  }
 ],
 "metadata": {
  "kernelspec": {
   "display_name": "Python 3 (ipykernel)",
   "language": "python",
   "name": "python3"
  },
  "language_info": {
   "codemirror_mode": {
    "name": "ipython",
    "version": 3
   },
   "file_extension": ".py",
   "mimetype": "text/x-python",
   "name": "python",
   "nbconvert_exporter": "python",
   "pygments_lexer": "ipython3",
   "version": "3.9.16"
  }
 },
 "nbformat": 4,
 "nbformat_minor": 5
}
