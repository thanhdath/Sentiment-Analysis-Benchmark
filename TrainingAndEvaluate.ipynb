{
 "cells": [
  {
   "cell_type": "markdown",
   "id": "b7ef4f94",
   "metadata": {},
   "source": [
    "### Import libraries and load dataset"
   ]
  },
  {
   "cell_type": "code",
   "execution_count": 1,
   "id": "3590f86c",
   "metadata": {},
   "outputs": [],
   "source": [
    "%load_ext autoreload\n",
    "%autoreload 2"
   ]
  },
  {
   "cell_type": "code",
   "execution_count": 2,
   "id": "21d63e9c",
   "metadata": {},
   "outputs": [],
   "source": [
    "import pandas as pd"
   ]
  },
  {
   "cell_type": "code",
   "execution_count": 28,
   "id": "0c75a0f0",
   "metadata": {},
   "outputs": [
    {
     "data": {
      "text/html": [
       "<div>\n",
       "<style scoped>\n",
       "    .dataframe tbody tr th:only-of-type {\n",
       "        vertical-align: middle;\n",
       "    }\n",
       "\n",
       "    .dataframe tbody tr th {\n",
       "        vertical-align: top;\n",
       "    }\n",
       "\n",
       "    .dataframe thead th {\n",
       "        text-align: right;\n",
       "    }\n",
       "</style>\n",
       "<table border=\"1\" class=\"dataframe\">\n",
       "  <thead>\n",
       "    <tr style=\"text-align: right;\">\n",
       "      <th></th>\n",
       "      <th>tweet_id</th>\n",
       "      <th>label</th>\n",
       "      <th>text</th>\n",
       "    </tr>\n",
       "  </thead>\n",
       "  <tbody>\n",
       "    <tr>\n",
       "      <th>0</th>\n",
       "      <td>567737449938685952</td>\n",
       "      <td>negative</td>\n",
       "      <td>@SouthwestAir no flights out of #nashville tod...</td>\n",
       "    </tr>\n",
       "    <tr>\n",
       "      <th>1</th>\n",
       "      <td>567737317432258560</td>\n",
       "      <td>neutral</td>\n",
       "      <td>@SouthwestAir I am but it says yall are sold o...</td>\n",
       "    </tr>\n",
       "    <tr>\n",
       "      <th>2</th>\n",
       "      <td>567736870365171713</td>\n",
       "      <td>negative</td>\n",
       "      <td>@SouthwestAir I'm trying to change a family va...</td>\n",
       "    </tr>\n",
       "    <tr>\n",
       "      <th>3</th>\n",
       "      <td>567736166787850240</td>\n",
       "      <td>neutral</td>\n",
       "      <td>@SouthwestAir F5R3ZZ</td>\n",
       "    </tr>\n",
       "    <tr>\n",
       "      <th>4</th>\n",
       "      <td>567735766416392194</td>\n",
       "      <td>positive</td>\n",
       "      <td>.@SouthwestAir you've got a mess here at DTW b...</td>\n",
       "    </tr>\n",
       "  </tbody>\n",
       "</table>\n",
       "</div>"
      ],
      "text/plain": [
       "             tweet_id     label  \\\n",
       "0  567737449938685952  negative   \n",
       "1  567737317432258560   neutral   \n",
       "2  567736870365171713  negative   \n",
       "3  567736166787850240   neutral   \n",
       "4  567735766416392194  positive   \n",
       "\n",
       "                                                text  \n",
       "0  @SouthwestAir no flights out of #nashville tod...  \n",
       "1  @SouthwestAir I am but it says yall are sold o...  \n",
       "2  @SouthwestAir I'm trying to change a family va...  \n",
       "3                               @SouthwestAir F5R3ZZ  \n",
       "4  .@SouthwestAir you've got a mess here at DTW b...  "
      ]
     },
     "execution_count": 28,
     "metadata": {},
     "output_type": "execute_result"
    }
   ],
   "source": [
    "tweet_train_path = \"data/combine/kfolds_0/train.csv\"\n",
    "tweet_test_path = \"data/combine/kfolds_0/test.csv\"\n",
    "\n",
    "train_df = pd.read_csv(tweet_train_path, nrows=100)\n",
    "test_df = pd.read_csv(tweet_test_path, nrows=100)\n",
    "\n",
    "train_df.head()"
   ]
  },
  {
   "cell_type": "markdown",
   "id": "c64977ba",
   "metadata": {},
   "source": [
    "### Data preprocessing"
   ]
  },
  {
   "cell_type": "code",
   "execution_count": 29,
   "id": "068975f1",
   "metadata": {},
   "outputs": [],
   "source": [
    "import re\n",
    "\n",
    "def emoji(tweet):\n",
    "    # Smile -- :), : ), :-), (:, ( :, (-:, :') , :O\n",
    "    tweet = re.sub(r'(:\\s?\\)|:-\\)|\\(\\s?:|\\(-:|:\\'\\)|:O)', ' positiveemoji ', tweet)\n",
    "    # Laugh -- :D, : D, :-D, xD, x-D, XD, X-D\n",
    "    tweet = re.sub(r'(:\\s?D|:-D|x-?D|X-?D)', ' positiveemoji ', tweet)\n",
    "    # Love -- <3, :*\n",
    "    tweet = re.sub(r'(<3|:\\*)', ' positiveemoji ', tweet)\n",
    "    # Wink -- ;-), ;), ;-D, ;D, (;,  (-; , @-)\n",
    "    tweet = re.sub(r'(;-?\\)|;-?D|\\(-?;|@-\\))', ' positiveemoji ', tweet)\n",
    "    # Sad -- :-(, : (, :(, ):, )-:, :-/ , :-|\n",
    "    tweet = re.sub(r'(:\\s?\\(|:-\\(|\\)\\s?:|\\)-:|:-/|:-\\|)', ' negetiveemoji ', tweet)\n",
    "    # Cry -- :,(, :'(, :\"(\n",
    "    tweet = re.sub(r'(:,\\(|:\\'\\(|:\"\\()', ' negetiveemoji ', tweet)\n",
    "    return tweet\n",
    "\n",
    "def process_tweet(tweet):\n",
    "    tweet = tweet.lower()                                             # Lowercases the string\n",
    "    tweet = re.sub('@[^\\s]+', '', tweet)                              # Removes usernames\n",
    "    tweet = re.sub('((www\\.[^\\s]+)|(https?://[^\\s]+))', ' ', tweet)   # Remove URLs\n",
    "    tweet = re.sub(r\"\\d+\", \" \", str(tweet))                           # Removes all digits\n",
    "    tweet = re.sub('&quot;',\" \", tweet)                               # Remove (&quot;) \n",
    "    tweet = emoji(tweet)                                              # Replaces Emojis\n",
    "    tweet = re.sub(r\"\\b[a-zA-Z]\\b\", \"\", str(tweet))                   # Removes all single characters\n",
    "    tweet = re.sub(r\"[^\\w\\s]\", \" \", str(tweet))                       # Removes all punctuations\n",
    "    tweet = re.sub(r'(.)\\1+', r'\\1\\1', tweet)                         # Convert more than 2 letter repetitions to 2 letter\n",
    "    tweet = re.sub(r\"\\s+\", \" \", str(tweet)) .strip()               \n",
    "    return tweet"
   ]
  },
  {
   "cell_type": "code",
   "execution_count": 30,
   "id": "2432e1c3",
   "metadata": {},
   "outputs": [
    {
     "data": {
      "text/html": [
       "<div>\n",
       "<style scoped>\n",
       "    .dataframe tbody tr th:only-of-type {\n",
       "        vertical-align: middle;\n",
       "    }\n",
       "\n",
       "    .dataframe tbody tr th {\n",
       "        vertical-align: top;\n",
       "    }\n",
       "\n",
       "    .dataframe thead th {\n",
       "        text-align: right;\n",
       "    }\n",
       "</style>\n",
       "<table border=\"1\" class=\"dataframe\">\n",
       "  <thead>\n",
       "    <tr style=\"text-align: right;\">\n",
       "      <th></th>\n",
       "      <th>tweet_id</th>\n",
       "      <th>label</th>\n",
       "      <th>text</th>\n",
       "    </tr>\n",
       "  </thead>\n",
       "  <tbody>\n",
       "    <tr>\n",
       "      <th>0</th>\n",
       "      <td>567737449938685952</td>\n",
       "      <td>negative</td>\n",
       "      <td>no flights out of nashville today are you kidd...</td>\n",
       "    </tr>\n",
       "    <tr>\n",
       "      <th>1</th>\n",
       "      <td>567737317432258560</td>\n",
       "      <td>neutral</td>\n",
       "      <td>am but it says yall are sold out me amp my cow...</td>\n",
       "    </tr>\n",
       "    <tr>\n",
       "      <th>2</th>\n",
       "      <td>567736870365171713</td>\n",
       "      <td>negative</td>\n",
       "      <td>trying to change family vacation due to measle...</td>\n",
       "    </tr>\n",
       "    <tr>\n",
       "      <th>3</th>\n",
       "      <td>567736166787850240</td>\n",
       "      <td>neutral</td>\n",
       "      <td>zz</td>\n",
       "    </tr>\n",
       "    <tr>\n",
       "      <th>4</th>\n",
       "      <td>567735766416392194</td>\n",
       "      <td>positive</td>\n",
       "      <td>you ve got mess here at dtw but your staff is ...</td>\n",
       "    </tr>\n",
       "  </tbody>\n",
       "</table>\n",
       "</div>"
      ],
      "text/plain": [
       "             tweet_id     label  \\\n",
       "0  567737449938685952  negative   \n",
       "1  567737317432258560   neutral   \n",
       "2  567736870365171713  negative   \n",
       "3  567736166787850240   neutral   \n",
       "4  567735766416392194  positive   \n",
       "\n",
       "                                                text  \n",
       "0  no flights out of nashville today are you kidd...  \n",
       "1  am but it says yall are sold out me amp my cow...  \n",
       "2  trying to change family vacation due to measle...  \n",
       "3                                                 zz  \n",
       "4  you ve got mess here at dtw but your staff is ...  "
      ]
     },
     "execution_count": 30,
     "metadata": {},
     "output_type": "execute_result"
    }
   ],
   "source": [
    "train_df['text'] = train_df['text'].apply(lambda x: process_tweet(x))\n",
    "test_df['text'] = test_df['text'].apply(lambda x: process_tweet(x))\n",
    "train_df.head()"
   ]
  },
  {
   "cell_type": "code",
   "execution_count": 31,
   "id": "25975a9d",
   "metadata": {},
   "outputs": [
    {
     "data": {
      "text/plain": [
       "[{'text': 'no flights out of nashville today are you kidding me why are other airlines flying and you re not so frustrated',\n",
       "  'label': 0},\n",
       " {'text': 'am but it says yall are sold out me amp my coworkers would need to get out first available',\n",
       "  'label': 1},\n",
       " {'text': 'trying to change family vacation due to measles outbreak and haven been able to get anyone on the phone any help',\n",
       "  'label': 0},\n",
       " {'text': 'zz', 'label': 1},\n",
       " {'text': 'you ve got mess here at dtw but your staff is doing great',\n",
       "  'label': 2}]"
      ]
     },
     "execution_count": 31,
     "metadata": {},
     "output_type": "execute_result"
    }
   ],
   "source": [
    "# Convert data to trainable format\n",
    "import json\n",
    "\n",
    "id2label = {0: \"negative\", 1: \"neutral\", 2: \"positive\"}\n",
    "label2id = {v: k for k, v in id2label.items()}\n",
    "\n",
    "train_df['label'] = train_df['label'].apply(lambda x: label2id[x])\n",
    "test_df['label'] = test_df['label'].apply(lambda x: label2id[x])\n",
    "\n",
    "train_data = json.loads(train_df[['text', 'label']].to_json(orient=\"records\"))\n",
    "test_data = json.loads(test_df[['text', 'label']].to_json(orient=\"records\"))\n",
    "\n",
    "train_data[:5]"
   ]
  },
  {
   "cell_type": "markdown",
   "id": "72929f83",
   "metadata": {},
   "source": [
    "### Select model and training"
   ]
  },
  {
   "cell_type": "code",
   "execution_count": 51,
   "id": "a90ac829",
   "metadata": {},
   "outputs": [
    {
     "name": "stdout",
     "output_type": "stream",
     "text": [
      "random_forest\n"
     ]
    }
   ],
   "source": [
    "from algorithms import init_trainer\n",
    "\n",
    "options = [\n",
    "    \"linear_svm_tfidf\",\n",
    "    \"linear_svm_word2vec\",\n",
    "    \"logistic_regressor_word2vec\",\n",
    "    \"distilbert-base-uncased\",\n",
    "    \"bert-base-uncased\",\n",
    "    \"roberta-base\",\n",
    "    \"naive_bayes\",\n",
    "    \"random_forest\"\n",
    "]\n",
    "\n",
    "option = options[-1]\n",
    "print(option)\n",
    "\n",
    "trainer = init_trainer(option)"
   ]
  },
  {
   "cell_type": "code",
   "execution_count": 52,
   "id": "1e45692b",
   "metadata": {},
   "outputs": [
    {
     "name": "stdout",
     "output_type": "stream",
     "text": [
      "Model has been saved to models/random-forest-1675878006.5515158\n"
     ]
    }
   ],
   "source": [
    "trainer.train(train_data)"
   ]
  },
  {
   "cell_type": "markdown",
   "id": "f88f3c12",
   "metadata": {},
   "source": [
    "### Evaluate model on test dataset"
   ]
  },
  {
   "cell_type": "code",
   "execution_count": 53,
   "id": "9d5472b3",
   "metadata": {},
   "outputs": [
    {
     "name": "stdout",
     "output_type": "stream",
     "text": [
      "Accuracy: micro: 0.540\n",
      "Precision: micro-macro: 0.540-0.567\n",
      "Recall: micro-macro: 0.540-0.514\n",
      "F1: micro-macro: 0.540-0.486\n",
      "              precision    recall  f1-score   support\n",
      "\n",
      "    negative       0.52      0.86      0.65        35\n",
      "     neutral       0.56      0.50      0.53        38\n",
      "    positive       0.62      0.19      0.29        27\n",
      "\n",
      "    accuracy                           0.54       100\n",
      "   macro avg       0.57      0.51      0.49       100\n",
      "weighted avg       0.56      0.54      0.50       100\n",
      "\n"
     ]
    }
   ],
   "source": [
    "trainer.evaluate(test_data)"
   ]
  },
  {
   "cell_type": "code",
   "execution_count": null,
   "id": "2bf2c91d",
   "metadata": {},
   "outputs": [],
   "source": []
  }
 ],
 "metadata": {
  "kernelspec": {
   "display_name": "Python 3 (ipykernel)",
   "language": "python",
   "name": "python3"
  },
  "language_info": {
   "codemirror_mode": {
    "name": "ipython",
    "version": 3
   },
   "file_extension": ".py",
   "mimetype": "text/x-python",
   "name": "python",
   "nbconvert_exporter": "python",
   "pygments_lexer": "ipython3",
   "version": "3.9.16"
  }
 },
 "nbformat": 4,
 "nbformat_minor": 5
}
