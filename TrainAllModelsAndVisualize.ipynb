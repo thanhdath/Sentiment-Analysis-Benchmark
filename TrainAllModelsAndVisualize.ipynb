{
 "cells": [
  {
   "cell_type": "markdown",
   "metadata": {},
   "source": [
    "### Import libraries and load dataset"
   ]
  },
  {
   "cell_type": "code",
   "execution_count": 1,
   "metadata": {},
   "outputs": [],
   "source": [
    "%load_ext autoreload\n",
    "%autoreload 2"
   ]
  },
  {
   "cell_type": "code",
   "execution_count": 2,
   "metadata": {},
   "outputs": [
    {
     "data": {
      "text/html": [
       "<div>\n",
       "<style scoped>\n",
       "    .dataframe tbody tr th:only-of-type {\n",
       "        vertical-align: middle;\n",
       "    }\n",
       "\n",
       "    .dataframe tbody tr th {\n",
       "        vertical-align: top;\n",
       "    }\n",
       "\n",
       "    .dataframe thead th {\n",
       "        text-align: right;\n",
       "    }\n",
       "</style>\n",
       "<table border=\"1\" class=\"dataframe\">\n",
       "  <thead>\n",
       "    <tr style=\"text-align: right;\">\n",
       "      <th></th>\n",
       "      <th>tweet_id</th>\n",
       "      <th>label</th>\n",
       "      <th>text</th>\n",
       "    </tr>\n",
       "  </thead>\n",
       "  <tbody>\n",
       "    <tr>\n",
       "      <th>0</th>\n",
       "      <td>567737449938685952</td>\n",
       "      <td>negative</td>\n",
       "      <td>@SouthwestAir no flights out of #nashville tod...</td>\n",
       "    </tr>\n",
       "    <tr>\n",
       "      <th>1</th>\n",
       "      <td>567737317432258560</td>\n",
       "      <td>neutral</td>\n",
       "      <td>@SouthwestAir I am but it says yall are sold o...</td>\n",
       "    </tr>\n",
       "    <tr>\n",
       "      <th>2</th>\n",
       "      <td>567736870365171713</td>\n",
       "      <td>negative</td>\n",
       "      <td>@SouthwestAir I'm trying to change a family va...</td>\n",
       "    </tr>\n",
       "    <tr>\n",
       "      <th>3</th>\n",
       "      <td>567736166787850240</td>\n",
       "      <td>neutral</td>\n",
       "      <td>@SouthwestAir F5R3ZZ</td>\n",
       "    </tr>\n",
       "    <tr>\n",
       "      <th>4</th>\n",
       "      <td>567735766416392194</td>\n",
       "      <td>positive</td>\n",
       "      <td>.@SouthwestAir you've got a mess here at DTW b...</td>\n",
       "    </tr>\n",
       "  </tbody>\n",
       "</table>\n",
       "</div>"
      ],
      "text/plain": [
       "             tweet_id     label   \n",
       "0  567737449938685952  negative  \\\n",
       "1  567737317432258560   neutral   \n",
       "2  567736870365171713  negative   \n",
       "3  567736166787850240   neutral   \n",
       "4  567735766416392194  positive   \n",
       "\n",
       "                                                text  \n",
       "0  @SouthwestAir no flights out of #nashville tod...  \n",
       "1  @SouthwestAir I am but it says yall are sold o...  \n",
       "2  @SouthwestAir I'm trying to change a family va...  \n",
       "3                               @SouthwestAir F5R3ZZ  \n",
       "4  .@SouthwestAir you've got a mess here at DTW b...  "
      ]
     },
     "execution_count": 2,
     "metadata": {},
     "output_type": "execute_result"
    }
   ],
   "source": [
    "import pandas as pd\n",
    "\n",
    "tweet_train_path = \"data/combine/kfolds_0/train.csv\"\n",
    "tweet_test_path = \"data/combine/kfolds_0/test.csv\"\n",
    "\n",
    "train_df = pd.read_csv(tweet_train_path, nrows=50)\n",
    "test_df = pd.read_csv(tweet_test_path, nrows=50)\n",
    "\n",
    "train_df.head()"
   ]
  },
  {
   "cell_type": "markdown",
   "metadata": {},
   "source": [
    "### Data preprocessing"
   ]
  },
  {
   "cell_type": "code",
   "execution_count": 3,
   "metadata": {},
   "outputs": [],
   "source": [
    "import re\n",
    "\n",
    "def emoji(tweet):\n",
    "    # Smile -- :), : ), :-), (:, ( :, (-:, :') , :O\n",
    "    tweet = re.sub(r'(:\\s?\\)|:-\\)|\\(\\s?:|\\(-:|:\\'\\)|:O)', ' positiveemoji ', tweet)\n",
    "    # Laugh -- :D, : D, :-D, xD, x-D, XD, X-D\n",
    "    tweet = re.sub(r'(:\\s?D|:-D|x-?D|X-?D)', ' positiveemoji ', tweet)\n",
    "    # Love -- <3, :*\n",
    "    tweet = re.sub(r'(<3|:\\*)', ' positiveemoji ', tweet)\n",
    "    # Wink -- ;-), ;), ;-D, ;D, (;,  (-; , @-)\n",
    "    tweet = re.sub(r'(;-?\\)|;-?D|\\(-?;|@-\\))', ' positiveemoji ', tweet)\n",
    "    # Sad -- :-(, : (, :(, ):, )-:, :-/ , :-|\n",
    "    tweet = re.sub(r'(:\\s?\\(|:-\\(|\\)\\s?:|\\)-:|:-/|:-\\|)', ' negetiveemoji ', tweet)\n",
    "    # Cry -- :,(, :'(, :\"(\n",
    "    tweet = re.sub(r'(:,\\(|:\\'\\(|:\"\\()', ' negetiveemoji ', tweet)\n",
    "    return tweet\n",
    "\n",
    "def process_tweet(tweet):\n",
    "    tweet = tweet.lower()                                             # Lowercases the string\n",
    "    tweet = re.sub('@[^\\s]+', '', tweet)                              # Removes usernames\n",
    "    tweet = re.sub('((www\\.[^\\s]+)|(https?://[^\\s]+))', ' ', tweet)   # Remove URLs\n",
    "    tweet = re.sub(r\"\\d+\", \" \", str(tweet))                           # Removes all digits\n",
    "    tweet = re.sub('&quot;',\" \", tweet)                               # Remove (&quot;) \n",
    "    tweet = emoji(tweet)                                              # Replaces Emojis\n",
    "    tweet = re.sub(r\"\\b[a-zA-Z]\\b\", \"\", str(tweet))                   # Removes all single characters\n",
    "    tweet = re.sub(r\"[^\\w\\s]\", \" \", str(tweet))                       # Removes all punctuations\n",
    "    tweet = re.sub(r'(.)\\1+', r'\\1\\1', tweet)                         # Convert more than 2 letter repetitions to 2 letter\n",
    "    tweet = re.sub(r\"\\s+\", \" \", str(tweet)) .strip()               \n",
    "    return tweet"
   ]
  },
  {
   "cell_type": "code",
   "execution_count": 4,
   "metadata": {},
   "outputs": [
    {
     "data": {
      "text/html": [
       "<div>\n",
       "<style scoped>\n",
       "    .dataframe tbody tr th:only-of-type {\n",
       "        vertical-align: middle;\n",
       "    }\n",
       "\n",
       "    .dataframe tbody tr th {\n",
       "        vertical-align: top;\n",
       "    }\n",
       "\n",
       "    .dataframe thead th {\n",
       "        text-align: right;\n",
       "    }\n",
       "</style>\n",
       "<table border=\"1\" class=\"dataframe\">\n",
       "  <thead>\n",
       "    <tr style=\"text-align: right;\">\n",
       "      <th></th>\n",
       "      <th>tweet_id</th>\n",
       "      <th>label</th>\n",
       "      <th>text</th>\n",
       "    </tr>\n",
       "  </thead>\n",
       "  <tbody>\n",
       "    <tr>\n",
       "      <th>0</th>\n",
       "      <td>567737449938685952</td>\n",
       "      <td>negative</td>\n",
       "      <td>no flights out of nashville today are you kidd...</td>\n",
       "    </tr>\n",
       "    <tr>\n",
       "      <th>1</th>\n",
       "      <td>567737317432258560</td>\n",
       "      <td>neutral</td>\n",
       "      <td>am but it says yall are sold out me amp my cow...</td>\n",
       "    </tr>\n",
       "    <tr>\n",
       "      <th>2</th>\n",
       "      <td>567736870365171713</td>\n",
       "      <td>negative</td>\n",
       "      <td>trying to change family vacation due to measle...</td>\n",
       "    </tr>\n",
       "    <tr>\n",
       "      <th>3</th>\n",
       "      <td>567736166787850240</td>\n",
       "      <td>neutral</td>\n",
       "      <td>zz</td>\n",
       "    </tr>\n",
       "    <tr>\n",
       "      <th>4</th>\n",
       "      <td>567735766416392194</td>\n",
       "      <td>positive</td>\n",
       "      <td>you ve got mess here at dtw but your staff is ...</td>\n",
       "    </tr>\n",
       "  </tbody>\n",
       "</table>\n",
       "</div>"
      ],
      "text/plain": [
       "             tweet_id     label   \n",
       "0  567737449938685952  negative  \\\n",
       "1  567737317432258560   neutral   \n",
       "2  567736870365171713  negative   \n",
       "3  567736166787850240   neutral   \n",
       "4  567735766416392194  positive   \n",
       "\n",
       "                                                text  \n",
       "0  no flights out of nashville today are you kidd...  \n",
       "1  am but it says yall are sold out me amp my cow...  \n",
       "2  trying to change family vacation due to measle...  \n",
       "3                                                 zz  \n",
       "4  you ve got mess here at dtw but your staff is ...  "
      ]
     },
     "execution_count": 4,
     "metadata": {},
     "output_type": "execute_result"
    }
   ],
   "source": [
    "train_df[\"text\"] = train_df[\"text\"].apply(lambda x: process_tweet(x))\n",
    "test_df[\"text\"] = test_df[\"text\"].apply(lambda x: process_tweet(x))\n",
    "train_df.head()"
   ]
  },
  {
   "cell_type": "code",
   "execution_count": 5,
   "metadata": {
    "scrolled": false
   },
   "outputs": [
    {
     "data": {
      "text/plain": [
       "array(['no flights out of nashville today are you kidding me why are other airlines flying and you re not so frustrated',\n",
       "       'am but it says yall are sold out me amp my coworkers would need to get out first available',\n",
       "       'trying to change family vacation due to measles outbreak and haven been able to get anyone on the phone any help',\n",
       "       'zz', 'you ve got mess here at dtw but your staff is doing great'],\n",
       "      dtype=object)"
      ]
     },
     "execution_count": 5,
     "metadata": {},
     "output_type": "execute_result"
    }
   ],
   "source": [
    "# Convert data to trainable format\n",
    "id2label = {0: \"negative\", 1: \"neutral\", 2: \"positive\"}\n",
    "label2id = {v: k for k, v in id2label.items()}\n",
    "\n",
    "train_df[\"label\"] = train_df[\"label\"].apply(lambda x: label2id[x])\n",
    "test_df[\"label\"] = test_df[\"label\"].apply(lambda x: label2id[x])\n",
    "\n",
    "train_texts = train_df[\"text\"].values\n",
    "train_labels = train_df[\"label\"].values\n",
    "\n",
    "test_texts = test_df[\"text\"].values\n",
    "test_labels = test_df[\"label\"]. values\n",
    "\n",
    "train_texts[:5]"
   ]
  },
  {
   "cell_type": "markdown",
   "metadata": {},
   "source": [
    "### Select feature extraction method & model for training\n",
    "Feature extraction heavily depends on the classifer. For example, language models such as bert-base-uncased and roberta-base don\"t require feature extraction step. Other shallow learning models require feature extraction such as tf-idf, bow, word2vec to transform texts to vectors."
   ]
  },
  {
   "cell_type": "code",
   "execution_count": 6,
   "metadata": {},
   "outputs": [
    {
     "name": "stdout",
     "output_type": "stream",
     "text": [
      "Vectorizer:  bow\n"
     ]
    }
   ],
   "source": [
    "from vectorizers import init_vectorizer\n",
    "\n",
    "vectorizer_options = [\n",
    "    \"tfidf\",\n",
    "    \"word2vec\",\n",
    "    \"bow\", # unigram and bigram\n",
    "    \"pass\" # only use for lm_models\n",
    "]\n",
    "\n",
    "chosen_vectorizer_name = vectorizer_options[2]\n",
    "vectorizer = init_vectorizer(chosen_vectorizer_name)\n",
    "print(\"Vectorizer: \", chosen_vectorizer_name)"
   ]
  },
  {
   "cell_type": "markdown",
   "metadata": {},
   "source": [
    "### Feature Extraction"
   ]
  },
  {
   "cell_type": "code",
   "execution_count": 7,
   "metadata": {},
   "outputs": [
    {
     "data": {
      "text/plain": [
       "<5x882 sparse matrix of type '<class 'numpy.int64'>'\n",
       "\twith 140 stored elements in Compressed Sparse Row format>"
      ]
     },
     "execution_count": 7,
     "metadata": {},
     "output_type": "execute_result"
    }
   ],
   "source": [
    "# Train vectorizer\n",
    "vectorizer.fit(train_texts)\n",
    "\n",
    "# convert train_texts, test_texts to vectors\n",
    "train_vector = vectorizer.transform(train_texts)\n",
    "test_vector = vectorizer.transform(test_texts)\n",
    "\n",
    "train_vector[:5]"
   ]
  },
  {
   "cell_type": "markdown",
   "metadata": {},
   "source": [
    "### Training model"
   ]
  },
  {
   "cell_type": "code",
   "execution_count": 8,
   "metadata": {},
   "outputs": [],
   "source": [
    "# all classifer options\n",
    "from algorithms import init_trainer\n",
    "\n",
    "shallow_learning_models = [\n",
    "    \"linear_svm\", #0\n",
    "    \"logistic_regressor\", #2\n",
    "    \"naive_bayes\", #3\n",
    "    \"random_forest\"  #4\n",
    "    ]\n",
    "\n",
    "lm_models = [\n",
    "    \"distilbert-base-uncased\", #5\n",
    "    \"bert-base-uncased\", #6\n",
    "    \"roberta-base\", #7\n",
    "]"
   ]
  },
  {
   "cell_type": "code",
   "execution_count": 9,
   "metadata": {},
   "outputs": [
    {
     "name": "stdout",
     "output_type": "stream",
     "text": [
      "Training model linear_svm\n",
      "Model has been saved to models/linear_svm-example\n",
      "Accuracy: micro: 0.560\n",
      "Precision: micro-macro: 0.560-0.598\n",
      "Recall: micro-macro: 0.560-0.584\n",
      "F1: micro-macro: 0.560-0.545\n",
      "              precision    recall  f1-score   support\n",
      "\n",
      "    negative       0.60      0.80      0.69        15\n",
      "     neutral       0.48      0.69      0.56        16\n",
      "    positive       0.71      0.26      0.38        19\n",
      "\n",
      "    accuracy                           0.56        50\n",
      "   macro avg       0.60      0.58      0.54        50\n",
      "weighted avg       0.60      0.56      0.53        50\n",
      "\n",
      "Training model logistic_regressor\n",
      "Model has been saved to models/logistic_regressor-example\n",
      "Accuracy: micro: 0.560\n",
      "Precision: micro-macro: 0.560-0.675\n",
      "Recall: micro-macro: 0.560-0.584\n",
      "F1: micro-macro: 0.560-0.543\n",
      "              precision    recall  f1-score   support\n",
      "\n",
      "    negative       0.55      0.80      0.65        15\n",
      "     neutral       0.48      0.69      0.56        16\n",
      "    positive       1.00      0.26      0.42        19\n",
      "\n",
      "    accuracy                           0.56        50\n",
      "   macro avg       0.67      0.58      0.54        50\n",
      "weighted avg       0.70      0.56      0.53        50\n",
      "\n",
      "Training model naive_bayes\n",
      "Model has been saved to models/naive_bayes-example\n",
      "Accuracy: micro: 0.340\n",
      "Precision: micro-macro: 0.340-0.304\n",
      "Recall: micro-macro: 0.340-0.374\n",
      "F1: micro-macro: 0.340-0.251\n",
      "              precision    recall  f1-score   support\n",
      "\n",
      "    negative       0.31      0.93      0.47        15\n",
      "     neutral       0.60      0.19      0.29        16\n",
      "    positive       0.00      0.00      0.00        19\n",
      "\n",
      "    accuracy                           0.34        50\n",
      "   macro avg       0.30      0.37      0.25        50\n",
      "weighted avg       0.29      0.34      0.23        50\n",
      "\n",
      "Training model random_forest\n"
     ]
    },
    {
     "name": "stderr",
     "output_type": "stream",
     "text": [
      "/home/codespace/.local/lib/python3.10/site-packages/sklearn/metrics/_classification.py:1344: UndefinedMetricWarning: Precision is ill-defined and being set to 0.0 in labels with no predicted samples. Use `zero_division` parameter to control this behavior.\n",
      "  _warn_prf(average, modifier, msg_start, len(result))\n",
      "/home/codespace/.local/lib/python3.10/site-packages/sklearn/metrics/_classification.py:1344: UndefinedMetricWarning: Precision and F-score are ill-defined and being set to 0.0 in labels with no predicted samples. Use `zero_division` parameter to control this behavior.\n",
      "  _warn_prf(average, modifier, msg_start, len(result))\n",
      "/home/codespace/.local/lib/python3.10/site-packages/sklearn/metrics/_classification.py:1344: UndefinedMetricWarning: Precision and F-score are ill-defined and being set to 0.0 in labels with no predicted samples. Use `zero_division` parameter to control this behavior.\n",
      "  _warn_prf(average, modifier, msg_start, len(result))\n",
      "/home/codespace/.local/lib/python3.10/site-packages/sklearn/metrics/_classification.py:1344: UndefinedMetricWarning: Precision and F-score are ill-defined and being set to 0.0 in labels with no predicted samples. Use `zero_division` parameter to control this behavior.\n",
      "  _warn_prf(average, modifier, msg_start, len(result))\n"
     ]
    },
    {
     "name": "stdout",
     "output_type": "stream",
     "text": [
      "Model has been saved to models/random_forest-example\n",
      "Accuracy: micro: 0.420\n",
      "Precision: micro-macro: 0.420-0.615\n",
      "Recall: micro-macro: 0.420-0.445\n",
      "F1: micro-macro: 0.420-0.367\n",
      "              precision    recall  f1-score   support\n",
      "\n",
      "    negative       0.47      0.53      0.50        15\n",
      "     neutral       0.38      0.75      0.50        16\n",
      "    positive       1.00      0.05      0.10        19\n",
      "\n",
      "    accuracy                           0.42        50\n",
      "   macro avg       0.62      0.45      0.37        50\n",
      "weighted avg       0.64      0.42      0.35        50\n",
      "\n",
      "Training model distilbert-base-uncased\n"
     ]
    },
    {
     "name": "stderr",
     "output_type": "stream",
     "text": [
      "Some weights of the model checkpoint at distilbert-base-uncased were not used when initializing DistilBertForSequenceClassification: ['vocab_layer_norm.weight', 'vocab_transform.bias', 'vocab_projector.bias', 'vocab_transform.weight', 'vocab_projector.weight', 'vocab_layer_norm.bias']\n",
      "- This IS expected if you are initializing DistilBertForSequenceClassification from the checkpoint of a model trained on another task or with another architecture (e.g. initializing a BertForSequenceClassification model from a BertForPreTraining model).\n",
      "- This IS NOT expected if you are initializing DistilBertForSequenceClassification from the checkpoint of a model that you expect to be exactly identical (initializing a BertForSequenceClassification model from a BertForSequenceClassification model).\n",
      "Some weights of DistilBertForSequenceClassification were not initialized from the model checkpoint at distilbert-base-uncased and are newly initialized: ['classifier.weight', 'classifier.bias', 'pre_classifier.weight', 'pre_classifier.bias']\n",
      "You should probably TRAIN this model on a down-stream task to be able to use it for predictions and inference.\n",
      "/home/codespace/.local/lib/python3.10/site-packages/ipykernel/comm/comm.py:79: DeprecationWarning: The `ipykernel.comm.Comm` class has been deprecated. Please use the `comm` module instead.For creating comms, use the function `from comm import create_comm`.\n",
      "  warn(\n"
     ]
    },
    {
     "data": {
      "application/vnd.jupyter.widget-view+json": {
       "model_id": "e192b45c0f65434294143a9bab9247e4",
       "version_major": 2,
       "version_minor": 0
      },
      "text/plain": [
       "  0%|          | 0/1 [00:00<?, ?ba/s]"
      ]
     },
     "metadata": {},
     "output_type": "display_data"
    },
    {
     "name": "stderr",
     "output_type": "stream",
     "text": [
      "The following columns in the training set don't have a corresponding argument in `DistilBertForSequenceClassification.forward` and have been ignored: text. If text are not expected by `DistilBertForSequenceClassification.forward`,  you can safely ignore this message.\n",
      "/opt/conda/envs/sentiment/lib/python3.10/site-packages/transformers/optimization.py:306: FutureWarning: This implementation of AdamW is deprecated and will be removed in a future version. Use the PyTorch implementation torch.optim.AdamW instead, or set `no_deprecation_warning=True` to disable this warning\n",
      "  warnings.warn(\n",
      "***** Running training *****\n",
      "  Num examples = 50\n",
      "  Num Epochs = 5\n",
      "  Instantaneous batch size per device = 16\n",
      "  Total train batch size (w. parallel, distributed & accumulation) = 16\n",
      "  Gradient Accumulation steps = 1\n",
      "  Total optimization steps = 20\n",
      "  Number of trainable parameters = 66955779\n",
      "You're using a DistilBertTokenizerFast tokenizer. Please note that with a fast tokenizer, using the `__call__` method is faster than using a method to encode the text followed by a call to the `pad` method to get a padded encoding.\n"
     ]
    },
    {
     "data": {
      "text/html": [
       "\n",
       "    <div>\n",
       "      \n",
       "      <progress value='20' max='20' style='width:300px; height:20px; vertical-align: middle;'></progress>\n",
       "      [20/20 00:13, Epoch 4.75/5]\n",
       "    </div>\n",
       "    <table border=\"1\" class=\"dataframe\">\n",
       "  <thead>\n",
       " <tr style=\"text-align: left;\">\n",
       "      <th>Step</th>\n",
       "      <th>Training Loss</th>\n",
       "    </tr>\n",
       "  </thead>\n",
       "  <tbody>\n",
       "  </tbody>\n",
       "</table><p>"
      ],
      "text/plain": [
       "<IPython.core.display.HTML object>"
      ]
     },
     "metadata": {},
     "output_type": "display_data"
    },
    {
     "name": "stdout",
     "output_type": "stream",
     "text": [
      "Model has been saved to models/distilbert-base-uncased-example\n"
     ]
    },
    {
     "name": "stderr",
     "output_type": "stream",
     "text": [
      "Parameter 'function'=<function LMForSequenceClassification.preprocess_function at 0x7f983191b010> of the transform datasets.arrow_dataset.Dataset._map_single couldn't be hashed properly, a random hash was used instead. Make sure your transforms and parameters are serializable with pickle or dill for the dataset fingerprinting and caching to work. If you reuse this transform, the caching mechanism will consider it to be different from the previous calls and recompute everything. This warning is only showed once. Subsequent hashing failures won't be showed.\n"
     ]
    },
    {
     "data": {
      "application/vnd.jupyter.widget-view+json": {
       "model_id": "bb00fad41f8549928f2424df3115f0d4",
       "version_major": 2,
       "version_minor": 0
      },
      "text/plain": [
       "  0%|          | 0/1 [00:00<?, ?ba/s]"
      ]
     },
     "metadata": {},
     "output_type": "display_data"
    },
    {
     "name": "stderr",
     "output_type": "stream",
     "text": [
      "PyTorch: setting up devices\n",
      "The default value for the training argument `--report_to` will change in v5 (from all installed integrations to none). In v5, you will need to use `--report_to all` to get the same behavior as now. You should start updating your code and make this info disappear :-).\n",
      "The following columns in the test set don't have a corresponding argument in `DistilBertForSequenceClassification.forward` and have been ignored: text. If text are not expected by `DistilBertForSequenceClassification.forward`,  you can safely ignore this message.\n",
      "***** Running Prediction *****\n",
      "  Num examples = 50\n",
      "  Batch size = 2\n"
     ]
    },
    {
     "data": {
      "text/html": [
       "\n",
       "    <div>\n",
       "      \n",
       "      <progress value='1' max='25' style='width:300px; height:20px; vertical-align: middle;'></progress>\n",
       "      [ 1/25 : < :]\n",
       "    </div>\n",
       "    "
      ],
      "text/plain": [
       "<IPython.core.display.HTML object>"
      ]
     },
     "metadata": {},
     "output_type": "display_data"
    },
    {
     "name": "stdout",
     "output_type": "stream",
     "text": [
      "Accuracy: micro: 0.300\n",
      "Precision: micro-macro: 0.300-0.100\n",
      "Recall: micro-macro: 0.300-0.333\n",
      "F1: micro-macro: 0.300-0.154\n",
      "              precision    recall  f1-score   support\n",
      "\n",
      "    negative       0.30      1.00      0.46        15\n",
      "     neutral       0.00      0.00      0.00        16\n",
      "    positive       0.00      0.00      0.00        19\n",
      "\n",
      "    accuracy                           0.30        50\n",
      "   macro avg       0.10      0.33      0.15        50\n",
      "weighted avg       0.09      0.30      0.14        50\n",
      "\n"
     ]
    },
    {
     "name": "stderr",
     "output_type": "stream",
     "text": [
      "/home/codespace/.local/lib/python3.10/site-packages/sklearn/metrics/_classification.py:1344: UndefinedMetricWarning: Precision is ill-defined and being set to 0.0 in labels with no predicted samples. Use `zero_division` parameter to control this behavior.\n",
      "  _warn_prf(average, modifier, msg_start, len(result))\n",
      "/home/codespace/.local/lib/python3.10/site-packages/sklearn/metrics/_classification.py:1344: UndefinedMetricWarning: Precision and F-score are ill-defined and being set to 0.0 in labels with no predicted samples. Use `zero_division` parameter to control this behavior.\n",
      "  _warn_prf(average, modifier, msg_start, len(result))\n",
      "/home/codespace/.local/lib/python3.10/site-packages/sklearn/metrics/_classification.py:1344: UndefinedMetricWarning: Precision and F-score are ill-defined and being set to 0.0 in labels with no predicted samples. Use `zero_division` parameter to control this behavior.\n",
      "  _warn_prf(average, modifier, msg_start, len(result))\n",
      "/home/codespace/.local/lib/python3.10/site-packages/sklearn/metrics/_classification.py:1344: UndefinedMetricWarning: Precision and F-score are ill-defined and being set to 0.0 in labels with no predicted samples. Use `zero_division` parameter to control this behavior.\n",
      "  _warn_prf(average, modifier, msg_start, len(result))\n"
     ]
    }
   ],
   "source": [
    "import time\n",
    "\n",
    "all_metrics = {\n",
    "    \"training_times\": []\n",
    "}\n",
    "\n",
    "chosen_models = shallow_learning_models + lm_models[:1]\n",
    "\n",
    "for chosen_model_name in chosen_models:\n",
    "    print(f\"Training model {chosen_model_name}\")\n",
    "\n",
    "    trainer = init_trainer(chosen_model_name)\n",
    "\n",
    "    straining_time = time.time()\n",
    "\n",
    "    if chosen_model_name in lm_models: # LM models don't require feature extraction step\n",
    "        trainer.train(train_texts, train_labels)\n",
    "    else:\n",
    "        trainer.train(train_vector, train_labels)\n",
    "\n",
    "    training_time = time.time() - straining_time\n",
    "\n",
    "    all_metrics[\"training_times\"].append(training_time)\n",
    "\n",
    "    trainer.save_model(vectorizer=vectorizer, output_model_name=f\"{chosen_model_name}-example\")\n",
    "\n",
    "    # evaluate\n",
    "    if chosen_model_name in lm_models:\n",
    "        metrics = trainer.evaluate(test_texts, test_labels)\n",
    "    else:\n",
    "        metrics = trainer.evaluate(test_vector, test_labels)\n",
    "    \n",
    "    for metric, score in metrics.items():\n",
    "        if metric not in all_metrics:\n",
    "            all_metrics[metric] = []\n",
    "        all_metrics[metric].append(score)"
   ]
  },
  {
   "cell_type": "markdown",
   "metadata": {},
   "source": [
    "### Visualize results"
   ]
  },
  {
   "cell_type": "code",
   "execution_count": 10,
   "metadata": {},
   "outputs": [
    {
     "data": {
      "image/png": "[encoded data removed]",
      "text/plain": [
       "<Figure size 640x480 with 1 Axes>"
      ]
     },
     "metadata": {},
     "output_type": "display_data"
    }
   ],
   "source": [
    "import matplotlib.pyplot as plt\n",
    "\n",
    "plt.figure(dpi=100)\n",
    "plt.barh(chosen_models, all_metrics[\"training_times\"])\n",
    "plt.ylabel(\"Classifier\")\n",
    "plt.xlabel(\"Training time (s)\")\n",
    "plt.show()"
   ]
  },
  {
   "cell_type": "code",
   "execution_count": 11,
   "metadata": {},
   "outputs": [
    {
     "data": {
      "image/png": "[encoded data removed]",
      "text/plain": [
       "<Figure size 640x480 with 1 Axes>"
      ]
     },
     "metadata": {},
     "output_type": "display_data"
    }
   ],
   "source": [
    "plt.figure(dpi=100)\n",
    "plt.barh(chosen_models, all_metrics[\"f1_macro\"])\n",
    "plt.ylabel(\"Classifier\")\n",
    "plt.xlabel(\"F1 macro\")\n",
    "plt.show()"
   ]
  },
  {
   "cell_type": "code",
   "execution_count": 12,
   "metadata": {},
   "outputs": [
    {
     "data": {
      "image/png": "[encoded data removed]",
      "text/plain": [
       "<Figure size 640x480 with 1 Axes>"
      ]
     },
     "metadata": {},
     "output_type": "display_data"
    }
   ],
   "source": [
    "plt.figure(dpi=100)\n",
    "plt.barh(chosen_models, all_metrics[\"inference_time\"])\n",
    "plt.ylabel(\"Classifier\")\n",
    "plt.xlabel(\"Inference Time (s)\")\n",
    "plt.show()"
   ]
  },
  {
   "cell_type": "code",
   "execution_count": null,
   "id": "73928766",
   "metadata": {},
   "outputs": [],
   "source": []
  }
 ],
 "metadata": {
  "interpreter": {
   "hash": "2cd89509722427b5e5592eb74e86f5ad2f3b651fac8edd33c0ff67fb22daa091"
  },
  "kernelspec": {
   "display_name": "Python 3.9.16 64-bit (conda)",
   "name": "python3"
  },
  "language_info": {
   "codemirror_mode": {
    "name": "ipython",
    "version": 3
   },
   "file_extension": ".py",
   "mimetype": "text/x-python",
   "name": "python",
   "nbconvert_exporter": "python",
   "pygments_lexer": "ipython3",
   "version": "3.10.10"
  }
 },
 "nbformat": 4,
 "nbformat_minor": 5
}
