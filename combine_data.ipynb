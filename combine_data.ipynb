{
 "cells": [
  {
   "cell_type": "code",
   "execution_count": 8,
   "metadata": {},
   "outputs": [],
   "source": [
    "# import pandas as pd\n",
    "\n",
    "# df = pd.read_csv('/media/thanhdat/DATA/Projects/Griffith-sentiment/data/twitter-us-airline/Tweets.csv')\n",
    "# df\n",
    "# selected = df[['tweet_id', 'airline_sentiment', 'text']]\n",
    "# selected.to_csv('data/combine/airline.csv', index=False)"
   ]
  },
  {
   "cell_type": "code",
   "execution_count": 13,
   "metadata": {},
   "outputs": [],
   "source": [
    "import pandas as pd\n",
    "\n",
    "df = pd.read_csv('/media/thanhdat/DATA/Projects/Griffith-sentiment/data/twitter_corpus-master/full-corpus.csv')\n",
    "df\n",
    "selected = df[['TweetId', 'Sentiment', 'TweetText']]\n",
    "selected.to_csv('data/combine/twitter_corpus.csv', index=False)"
   ]
  },
  {
   "cell_type": "code",
   "execution_count": 24,
   "metadata": {},
   "outputs": [],
   "source": [
    "import pandas as pd\n",
    "import re\n",
    "data = []\n",
    "\n",
    "df = pd.read_csv('data/combine/airline.csv')\n",
    "for id, label, text in df.values:\n",
    "    data.append([id, label, text])\n",
    "\n",
    "df = pd.read_csv('data/combine/twitter_corpus.csv')\n",
    "for id, label, text in df.values:\n",
    "    data.append([id, label, text])\n",
    "\n",
    "with open('data/combine/train.txt') as fp:\n",
    "    temp_text = []\n",
    "    for line in fp:\n",
    "        if len(re.findall('\\t', line.strip())) == 2:\n",
    "            if len(temp_text) > 0:\n",
    "                text = ' '.join(temp_text)\n",
    "                data.append([id, label, text])\n",
    "                temp_text = []\n",
    "            else:\n",
    "                id, label, text = line.strip().split('\\t')\n",
    "                temp_text.append(text)\n",
    "        else:\n",
    "            text = line.strip()\n",
    "            temp_text.append(text)\n",
    "\n",
    "    if len(temp_text) > 0:\n",
    "        text = ' '.join(temp_text)\n",
    "        data.append([id, label, text])\n",
    "        temp_text = []\n",
    "        \n",
    "\n",
    "outdf = pd.DataFrame(data, columns=['tweet_id', 'label', 'text'])\n",
    "\n",
    "data = []\n",
    "for id, label, text in outdf.values:\n",
    "    if label in ['negative', 'neutral', 'positive']:\n",
    "        data.append([id, label, text])\n",
    "outdf = pd.DataFrame(data, columns=['tweet_id', 'label', 'text'])\n",
    "outdf.to_csv('data/combine/all.csv', index=False)"
   ]
  },
  {
   "cell_type": "code",
   "execution_count": 23,
   "metadata": {},
   "outputs": [
    {
     "data": {
      "text/plain": [
       "array(['negative', 'neutral', 'positive'], dtype='<U8')"
      ]
     },
     "execution_count": 23,
     "metadata": {},
     "output_type": "execute_result"
    }
   ],
   "source": [
    "from sklearn.model_selection import KFold"
   ]
  },
  {
   "cell_type": "code",
   "execution_count": 26,
   "metadata": {},
   "outputs": [],
   "source": [
    "from sklearn.model_selection import KFold\n",
    "import pandas as pd\n",
    "import os\n",
    "\n",
    "df = pd.read_csv('data/combine/all.csv')\n",
    "kf = KFold(n_splits=5)\n",
    "idx = 0\n",
    "for train_index, test_index in kf.split(df):\n",
    "    train_data = df.iloc[train_index]\n",
    "    test_data = df.iloc[test_index]\n",
    "\n",
    "    os.makedirs(f'data/combine/kfolds_{idx}', exist_ok=True)\n",
    "    train_data.to_csv(f'data/combine/kfolds_{idx}/train.csv', index=False)\n",
    "    test_data.to_csv(f'data/combine/kfolds_{idx}/test.csv', index=False)\n",
    "    idx += 1"
   ]
  },
  {
   "cell_type": "code",
   "execution_count": null,
   "metadata": {},
   "outputs": [],
   "source": []
  }
 ],
 "metadata": {
  "interpreter": {
   "hash": "85c30a9779345a05ea0957fcd21ac5a60391c7df5eb211eb1ca378bc2e36f4e3"
  },
  "kernelspec": {
   "display_name": "Python 3 (ipykernel)",
   "language": "python",
   "name": "python3"
  },
  "language_info": {
   "codemirror_mode": {
    "name": "ipython",
    "version": 3
   },
   "file_extension": ".py",
   "mimetype": "text/x-python",
   "name": "python",
   "nbconvert_exporter": "python",
   "pygments_lexer": "ipython3",
   "version": "3.7.13"
  }
 },
 "nbformat": 4,
 "nbformat_minor": 2
}
