{
 "cells": [
  {
   "cell_type": "code",
   "execution_count": 30,
   "id": "4221c46c",
   "metadata": {},
   "outputs": [
    {
     "name": "stdout",
     "output_type": "stream",
     "text": [
      "The autoreload extension is already loaded. To reload it, use:\n",
      "  %reload_ext autoreload\n"
     ]
    }
   ],
   "source": [
    "%load_ext autoreload\n",
    "%autoreload 2"
   ]
  },
  {
   "cell_type": "code",
   "execution_count": 76,
   "id": "e83ffb96",
   "metadata": {},
   "outputs": [],
   "source": [
    "from algorithms import init_model"
   ]
  },
  {
   "cell_type": "code",
   "execution_count": 77,
   "id": "b4be9e3b",
   "metadata": {},
   "outputs": [
    {
     "name": "stdout",
     "output_type": "stream",
     "text": [
      "random_forest\n"
     ]
    }
   ],
   "source": [
    "options = [\n",
    "    \"linear_svm_tfidf\",\n",
    "    \"linear_svm_word2vec\",\n",
    "    \"logistic_regressor_word2vec\",\n",
    "    \"distilbert-base-uncased\",\n",
    "    \"bert-base-uncased\",\n",
    "    \"roberta-base\",\n",
    "    \"naive_bayes\",\n",
    "    \"random_forest\"\n",
    "]\n",
    "\n",
    "option = options[7]\n",
    "print(option)\n",
    "model = init_model(option)"
   ]
  },
  {
   "cell_type": "code",
   "execution_count": 78,
   "id": "a2803d8e",
   "metadata": {},
   "outputs": [
    {
     "data": {
      "text/plain": [
       "'negative'"
      ]
     },
     "execution_count": 78,
     "metadata": {},
     "output_type": "execute_result"
    }
   ],
   "source": [
    "text = \"what an ugly hotel\"\n",
    "\n",
    "model.predict(text)"
   ]
  },
  {
   "cell_type": "code",
   "execution_count": null,
   "id": "2cc94014",
   "metadata": {},
   "outputs": [],
   "source": []
  },
  {
   "cell_type": "code",
   "execution_count": null,
   "id": "281580f0",
   "metadata": {},
   "outputs": [],
   "source": []
  }
 ],
 "metadata": {
  "kernelspec": {
   "display_name": "Python 3 (ipykernel)",
   "language": "python",
   "name": "python3"
  },
  "language_info": {
   "codemirror_mode": {
    "name": "ipython",
    "version": 3
   },
   "file_extension": ".py",
   "mimetype": "text/x-python",
   "name": "python",
   "nbconvert_exporter": "python",
   "pygments_lexer": "ipython3",
   "version": "3.9.13"
  }
 },
 "nbformat": 4,
 "nbformat_minor": 5
}
