{
 "cells": [
  {
   "cell_type": "code",
   "execution_count": 1,
   "id": "4221c46c",
   "metadata": {},
   "outputs": [],
   "source": [
    "%load_ext autoreload\n",
    "%autoreload 2"
   ]
  },
  {
   "cell_type": "code",
   "execution_count": 26,
   "id": "e83ffb96",
   "metadata": {},
   "outputs": [],
   "source": [
    "from algorithms import init_model"
   ]
  },
  {
   "cell_type": "code",
   "execution_count": 27,
   "id": "b4be9e3b",
   "metadata": {},
   "outputs": [],
   "source": [
    "model = init_model(\"random_forest\")"
   ]
  },
  {
   "cell_type": "code",
   "execution_count": 29,
   "id": "a2803d8e",
   "metadata": {},
   "outputs": [
    {
     "data": {
      "text/plain": [
       "'negative'"
      ]
     },
     "execution_count": 29,
     "metadata": {},
     "output_type": "execute_result"
    }
   ],
   "source": [
    "text = \"what a beautiful hotel\"\n",
    "\n",
    "model.predict(text)"
   ]
  },
  {
   "cell_type": "code",
   "execution_count": null,
   "id": "2cc94014",
   "metadata": {},
   "outputs": [],
   "source": []
  }
 ],
 "metadata": {
  "kernelspec": {
   "display_name": "Python 3 (ipykernel)",
   "language": "python",
   "name": "python3"
  },
  "language_info": {
   "codemirror_mode": {
    "name": "ipython",
    "version": 3
   },
   "file_extension": ".py",
   "mimetype": "text/x-python",
   "name": "python",
   "nbconvert_exporter": "python",
   "pygments_lexer": "ipython3",
   "version": "3.9.13"
  }
 },
 "nbformat": 4,
 "nbformat_minor": 5
}
